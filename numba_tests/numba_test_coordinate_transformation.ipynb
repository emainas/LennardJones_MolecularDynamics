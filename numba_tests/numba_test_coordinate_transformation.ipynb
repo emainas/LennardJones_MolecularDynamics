{
 "cells": [
  {
   "cell_type": "code",
   "execution_count": 16,
   "metadata": {},
   "outputs": [],
   "source": [
    "import numpy as np\n",
    "import numba\n",
    "from matplotlib import pyplot as plt\n",
    "from numba import jit"
   ]
  },
  {
   "cell_type": "code",
   "execution_count": 6,
   "metadata": {},
   "outputs": [
    {
     "name": "stdout",
     "output_type": "stream",
     "text": [
      "0.38.0\n"
     ]
    }
   ],
   "source": [
    "print(numba.__version__)"
   ]
  },
  {
   "cell_type": "code",
   "execution_count": 7,
   "metadata": {},
   "outputs": [],
   "source": [
    "@jit(nopython = True)\n",
    "def go_fast(a):\n",
    "    \n",
    "    trace = 0\n",
    "    \n",
    "    for i in range(a.shape[0]):\n",
    "        trace += np.tanh(a[i, i])\n",
    "        \n",
    "    return a + trace"
   ]
  },
  {
   "cell_type": "code",
   "execution_count": 8,
   "metadata": {},
   "outputs": [
    {
     "data": {
      "text/plain": [
       "array([[  9.,  10.,  11.,  12.,  13.,  14.,  15.,  16.,  17.,  18.],\n",
       "       [ 19.,  20.,  21.,  22.,  23.,  24.,  25.,  26.,  27.,  28.],\n",
       "       [ 29.,  30.,  31.,  32.,  33.,  34.,  35.,  36.,  37.,  38.],\n",
       "       [ 39.,  40.,  41.,  42.,  43.,  44.,  45.,  46.,  47.,  48.],\n",
       "       [ 49.,  50.,  51.,  52.,  53.,  54.,  55.,  56.,  57.,  58.],\n",
       "       [ 59.,  60.,  61.,  62.,  63.,  64.,  65.,  66.,  67.,  68.],\n",
       "       [ 69.,  70.,  71.,  72.,  73.,  74.,  75.,  76.,  77.,  78.],\n",
       "       [ 79.,  80.,  81.,  82.,  83.,  84.,  85.,  86.,  87.,  88.],\n",
       "       [ 89.,  90.,  91.,  92.,  93.,  94.,  95.,  96.,  97.,  98.],\n",
       "       [ 99., 100., 101., 102., 103., 104., 105., 106., 107., 108.]])"
      ]
     },
     "execution_count": 8,
     "metadata": {},
     "output_type": "execute_result"
    }
   ],
   "source": [
    "x = np.arange(100).reshape(10,10)\n",
    "\n",
    "go_fast(x)"
   ]
  },
  {
   "cell_type": "code",
   "execution_count": 9,
   "metadata": {},
   "outputs": [
    {
     "data": {
      "text/plain": [
       "array([[  9.,  11.,  13.,  15.,  17.,  19.,  21.,  23.,  25.,  27.],\n",
       "       [ 29.,  31.,  33.,  35.,  37.,  39.,  41.,  43.,  45.,  47.],\n",
       "       [ 49.,  51.,  53.,  55.,  57.,  59.,  61.,  63.,  65.,  67.],\n",
       "       [ 69.,  71.,  73.,  75.,  77.,  79.,  81.,  83.,  85.,  87.],\n",
       "       [ 89.,  91.,  93.,  95.,  97.,  99., 101., 103., 105., 107.],\n",
       "       [109., 111., 113., 115., 117., 119., 121., 123., 125., 127.],\n",
       "       [129., 131., 133., 135., 137., 139., 141., 143., 145., 147.],\n",
       "       [149., 151., 153., 155., 157., 159., 161., 163., 165., 167.],\n",
       "       [169., 171., 173., 175., 177., 179., 181., 183., 185., 187.],\n",
       "       [189., 191., 193., 195., 197., 199., 201., 203., 205., 207.]])"
      ]
     },
     "execution_count": 9,
     "metadata": {},
     "output_type": "execute_result"
    }
   ],
   "source": [
    "go_fast(2*x)"
   ]
  },
  {
   "cell_type": "code",
   "execution_count": 10,
   "metadata": {},
   "outputs": [
    {
     "name": "stdout",
     "output_type": "stream",
     "text": [
      "1.64 µs ± 34.8 ns per loop (mean ± std. dev. of 7 runs, 1000000 loops each)\n"
     ]
    }
   ],
   "source": [
    "%timeit go_fast(x)"
   ]
  },
  {
   "cell_type": "code",
   "execution_count": 11,
   "metadata": {},
   "outputs": [],
   "source": [
    "np.testing.assert_array_equal(go_fast(x), go_fast.py_func(x))"
   ]
  },
  {
   "cell_type": "code",
   "execution_count": 12,
   "metadata": {},
   "outputs": [
    {
     "name": "stdout",
     "output_type": "stream",
     "text": [
      "37.1 µs ± 2.39 µs per loop (mean ± std. dev. of 7 runs, 10000 loops each)\n"
     ]
    }
   ],
   "source": [
    "%timeit go_fast.py_func(x)"
   ]
  },
  {
   "cell_type": "code",
   "execution_count": 13,
   "metadata": {},
   "outputs": [],
   "source": [
    "import random\n",
    "\n",
    "@jit(nopython=True)\n",
    "def spherical_to_cartesian(r, theta, phi):\n",
    "    '''Convert spherical coordinates (physics convention) to cartesian coordinates'''\n",
    "    sin_theta = np.sin(theta)\n",
    "    x = r * sin_theta * np.cos(phi)\n",
    "    y = r * sin_theta * np.sin(phi)\n",
    "    z = r * np.cos(theta)\n",
    "    \n",
    "    return x, y, z # return a tuple\n",
    "    \n",
    "@jit(nopython=True)\n",
    "def random_directions(n, r):\n",
    "    '''Return ``n`` 3-vectors in random directions with radius ``r``'''\n",
    "    out = np.empty(shape=(n,3), dtype=np.float64)\n",
    "    \n",
    "    for i in range(n):\n",
    "        # Pick directions randomly in solid angle\n",
    "        phi = random.uniform(0, 2*np.pi)\n",
    "        theta = np.arccos(random.uniform(-1, 1))\n",
    "        # unpack a tuple\n",
    "        x, y, z = spherical_to_cartesian(r, theta, phi)\n",
    "        out[i] = x, y, z\n",
    "    \n",
    "    return out"
   ]
  },
  {
   "cell_type": "code",
   "execution_count": 14,
   "metadata": {},
   "outputs": [
    {
     "data": {
      "text/plain": [
       "array([[-0.45646097,  0.31558045, -0.83189685],\n",
       "       [-0.51938293, -0.82579025, -0.21979951],\n",
       "       [ 0.59506384,  0.71657125, -0.363902  ],\n",
       "       [ 0.45085245, -0.12978731,  0.88311229],\n",
       "       [-0.48975631, -0.84892496,  0.19865842],\n",
       "       [ 0.67237945,  0.731864  , -0.11081946],\n",
       "       [ 0.04732621, -0.7826863 ,  0.62061452],\n",
       "       [ 0.21488063, -0.15012552,  0.96503298],\n",
       "       [ 0.00860422, -0.66969621, -0.74258532],\n",
       "       [ 0.17444916, -0.14692065,  0.97364358]])"
      ]
     },
     "execution_count": 14,
     "metadata": {},
     "output_type": "execute_result"
    }
   ],
   "source": [
    "random_directions(10, 1.0)"
   ]
  },
  {
   "cell_type": "code",
   "execution_count": 17,
   "metadata": {},
   "outputs": [
    {
     "data": {
      "image/png": "[encoded data removed]",
      "text/plain": [
       "<Figure size 432x288 with 1 Axes>"
      ]
     },
     "metadata": {},
     "output_type": "display_data"
    }
   ],
   "source": [
    "plt.plot(random_directions(10, 1.0))\n",
    "plt.show()"
   ]
  },
  {
   "cell_type": "code",
   "execution_count": null,
   "metadata": {},
   "outputs": [],
   "source": []
  }
 ],
 "metadata": {
  "kernelspec": {
   "display_name": "Python 3",
   "language": "python",
   "name": "python3"
  },
  "language_info": {
   "codemirror_mode": {
    "name": "ipython",
    "version": 3
   },
   "file_extension": ".py",
   "mimetype": "text/x-python",
   "name": "python",
   "nbconvert_exporter": "python",
   "pygments_lexer": "ipython3",
   "version": "3.6.5"
  }
 },
 "nbformat": 4,
 "nbformat_minor": 2
}
