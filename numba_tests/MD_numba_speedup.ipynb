{
 "cells": [
  {
   "cell_type": "code",
   "execution_count": 10,
   "metadata": {},
   "outputs": [
    {
     "name": "stdout",
     "output_type": "stream",
     "text": [
      "0.38.0\n"
     ]
    }
   ],
   "source": [
    "import numpy \n",
    "import numba\n",
    "from numba import jit\n",
    "from numpy import *\n",
    "from pylab import *\n",
    "\n",
    "print(numba.__version__)"
   ]
  },
  {
   "cell_type": "code",
   "execution_count": 30,
   "metadata": {},
   "outputs": [],
   "source": [
    "class MolecularDynamics:\n",
    "\n",
    "\n",
    "    \"\"\"Class that describes the molecular dynamics of a gas of atoms in units where m = epsilon = sigma = kb = 1\"\"\"\n",
    "    \n",
    "    dt = 0.001 # time increment\n",
    "    sampleInterval = 100\n",
    "    \n",
    "    def __init__(self, N=4, L=10.0, initialTemperature=0.0):\n",
    "    \n",
    "        numpy.random.seed(219) # random number generator used for initial velocities (and sometimes positions) \n",
    "        \n",
    "        self.N = N  # number of particles \n",
    "        self.L = L\t# length of square side \n",
    "        self.initialTemperature = initialTemperature\n",
    "        \n",
    "        self.t = 0.0 # initial time\n",
    "        self.tArray = array([self.t]) # array of time steps that is added to during integration\n",
    "        self.steps = 0\n",
    "\n",
    "        self.EnergyArray = array([]) # list of energy, sampled every sampleInterval time steps\n",
    "        self.sampleTimeArray = array([])\n",
    "\n",
    "        # accumulate statistics during time evolution\n",
    "        self.temperatureArray = array([self.initialTemperature])\n",
    "        self.temperatureAccumulator = 0.0\n",
    "        self.squareTemperatureAccumulator = 0.0\n",
    "        self.virialAccumulator = 0.0\n",
    "\n",
    "        self.x = zeros(2*N) # NumPy array of N (x, y) positions\n",
    "        self.v = zeros(2*N) # array of N (vx, vy) velocities\n",
    "\n",
    "        self.xArray = array([]) # particle positions that is added to during integration\n",
    "        self.vArray = array([]) # particle velocities\n",
    "        \n",
    "        self.forceType = \"lennardJones\""
   ]
  },
  {
   "cell_type": "code",
   "execution_count": 5,
   "metadata": {},
   "outputs": [],
   "source": [
    "    def minimumImage(self, x): # minimum image approximation (Gould Listing 8.2)\n",
    "\n",
    "        L = self.L\n",
    "        halfL = 0.5 * L\n",
    "\n",
    "        return (x + halfL) % L - halfL"
   ]
  },
  {
   "cell_type": "code",
   "execution_count": 6,
   "metadata": {},
   "outputs": [],
   "source": [
    "    def force(self): \n",
    "\n",
    "        if (self.forceType == \"lennardJones\"):\n",
    "            f, virial = self.lennardJonesForce()\n",
    "\n",
    "        if (self.forceType == \"powerLaw\"):\n",
    "            f, virial = self.powerLawForce()\n",
    "\n",
    "        self.virialAccumulator += virial\n",
    "\n",
    "        return f"
   ]
  },
  {
   "cell_type": "code",
   "execution_count": 22,
   "metadata": {},
   "outputs": [],
   "source": [
    "    def lennardJonesForce(self): # Gould Eq. 8.3 (NumPy vector form which is faster)\n",
    "\n",
    "        N = self.N\n",
    "        virial = 0.0\n",
    "        tiny = 1.0e-40 # prevents division by zero in calculation of self-force\n",
    "        L = self.L\n",
    "        halfL = 0.5 * L\n",
    "\n",
    "        x = self.x[arange(0, 2*N, 2)]\n",
    "        y = self.x[arange(1, 2*N, 2)]\n",
    "        f = zeros(2*N)\n",
    "\n",
    "        minimumImage = self.minimumImage\n",
    "\n",
    "        for i in range(N):  # The O(N**2) calculation that slows everything down SOS: ACCELERATE THIS LOOP\n",
    "\n",
    "            dx = minimumImage(x[i] - x)\n",
    "            dy = minimumImage(y[i] - y)\n",
    "    \n",
    "            r2inv = 1.0/(dx**2 + dy**2 + tiny)\n",
    "            c = 48.0 * r2inv**7 - 24.0 * r2inv**4 # Where are epsilon and sigma parameters? We work in units where they r equal to 1?\n",
    "            fx = dx * c\n",
    "            fy = dy * c\n",
    "\n",
    "            fx[i] = 0.0 # no self force\n",
    "            fy[i] = 0.0\n",
    "            f[2*i] = fx.sum()\n",
    "            f[2*i+1] = fy.sum()\n",
    "\n",
    "            virial += dot(fx, dx) + dot(fy, dy)\n",
    "\n",
    "        return f, 0.5*virial"
   ]
  },
  {
   "cell_type": "code",
   "execution_count": 36,
   "metadata": {
    "scrolled": true
   },
   "outputs": [
    {
     "ename": "AttributeError",
     "evalue": "'MolecularDynamics' object has no attribute 'lennardJonesForce'",
     "output_type": "error",
     "traceback": [
      "\u001b[1;31m---------------------------------------------------------------------------\u001b[0m",
      "\u001b[1;31mAttributeError\u001b[0m                            Traceback (most recent call last)",
      "\u001b[1;32m<ipython-input-36-4d44d4dd1a42>\u001b[0m in \u001b[0;36m<module>\u001b[1;34m()\u001b[0m\n\u001b[0;32m      1\u001b[0m \u001b[0mmd\u001b[0m \u001b[1;33m=\u001b[0m \u001b[0mMolecularDynamics\u001b[0m\u001b[1;33m(\u001b[0m\u001b[0mN\u001b[0m\u001b[1;33m=\u001b[0m\u001b[1;36m16\u001b[0m\u001b[1;33m,\u001b[0m \u001b[0mL\u001b[0m\u001b[1;33m=\u001b[0m\u001b[1;36m4\u001b[0m\u001b[1;33m,\u001b[0m \u001b[0minitialTemperature\u001b[0m\u001b[1;33m=\u001b[0m\u001b[1;36m1.0\u001b[0m\u001b[1;33m)\u001b[0m\u001b[1;33m\u001b[0m\u001b[0m\n\u001b[1;32m----> 2\u001b[1;33m \u001b[0mget_ipython\u001b[0m\u001b[1;33m(\u001b[0m\u001b[1;33m)\u001b[0m\u001b[1;33m.\u001b[0m\u001b[0mrun_line_magic\u001b[0m\u001b[1;33m(\u001b[0m\u001b[1;34m'timeit'\u001b[0m\u001b[1;33m,\u001b[0m \u001b[1;34m'md.lennardJonesForce(self)'\u001b[0m\u001b[1;33m)\u001b[0m\u001b[1;33m\u001b[0m\u001b[0m\n\u001b[0m\u001b[0;32m      3\u001b[0m \u001b[1;33m\u001b[0m\u001b[0m\n",
      "\u001b[1;32mC:\\ProgramData\\Anaconda3\\lib\\site-packages\\IPython\\core\\interactiveshell.py\u001b[0m in \u001b[0;36mrun_line_magic\u001b[1;34m(self, magic_name, line, _stack_depth)\u001b[0m\n\u001b[0;32m   2129\u001b[0m                 \u001b[0mkwargs\u001b[0m\u001b[1;33m[\u001b[0m\u001b[1;34m'local_ns'\u001b[0m\u001b[1;33m]\u001b[0m \u001b[1;33m=\u001b[0m \u001b[0msys\u001b[0m\u001b[1;33m.\u001b[0m\u001b[0m_getframe\u001b[0m\u001b[1;33m(\u001b[0m\u001b[0mstack_depth\u001b[0m\u001b[1;33m)\u001b[0m\u001b[1;33m.\u001b[0m\u001b[0mf_locals\u001b[0m\u001b[1;33m\u001b[0m\u001b[0m\n\u001b[0;32m   2130\u001b[0m             \u001b[1;32mwith\u001b[0m \u001b[0mself\u001b[0m\u001b[1;33m.\u001b[0m\u001b[0mbuiltin_trap\u001b[0m\u001b[1;33m:\u001b[0m\u001b[1;33m\u001b[0m\u001b[0m\n\u001b[1;32m-> 2131\u001b[1;33m                 \u001b[0mresult\u001b[0m \u001b[1;33m=\u001b[0m \u001b[0mfn\u001b[0m\u001b[1;33m(\u001b[0m\u001b[1;33m*\u001b[0m\u001b[0margs\u001b[0m\u001b[1;33m,\u001b[0m\u001b[1;33m**\u001b[0m\u001b[0mkwargs\u001b[0m\u001b[1;33m)\u001b[0m\u001b[1;33m\u001b[0m\u001b[0m\n\u001b[0m\u001b[0;32m   2132\u001b[0m             \u001b[1;32mreturn\u001b[0m \u001b[0mresult\u001b[0m\u001b[1;33m\u001b[0m\u001b[0m\n\u001b[0;32m   2133\u001b[0m \u001b[1;33m\u001b[0m\u001b[0m\n",
      "\u001b[1;32m<decorator-gen-62>\u001b[0m in \u001b[0;36mtimeit\u001b[1;34m(self, line, cell, local_ns)\u001b[0m\n",
      "\u001b[1;32mC:\\ProgramData\\Anaconda3\\lib\\site-packages\\IPython\\core\\magic.py\u001b[0m in \u001b[0;36m<lambda>\u001b[1;34m(f, *a, **k)\u001b[0m\n\u001b[0;32m    185\u001b[0m     \u001b[1;31m# but it's overkill for just that one bit of state.\u001b[0m\u001b[1;33m\u001b[0m\u001b[1;33m\u001b[0m\u001b[0m\n\u001b[0;32m    186\u001b[0m     \u001b[1;32mdef\u001b[0m \u001b[0mmagic_deco\u001b[0m\u001b[1;33m(\u001b[0m\u001b[0marg\u001b[0m\u001b[1;33m)\u001b[0m\u001b[1;33m:\u001b[0m\u001b[1;33m\u001b[0m\u001b[0m\n\u001b[1;32m--> 187\u001b[1;33m         \u001b[0mcall\u001b[0m \u001b[1;33m=\u001b[0m \u001b[1;32mlambda\u001b[0m \u001b[0mf\u001b[0m\u001b[1;33m,\u001b[0m \u001b[1;33m*\u001b[0m\u001b[0ma\u001b[0m\u001b[1;33m,\u001b[0m \u001b[1;33m**\u001b[0m\u001b[0mk\u001b[0m\u001b[1;33m:\u001b[0m \u001b[0mf\u001b[0m\u001b[1;33m(\u001b[0m\u001b[1;33m*\u001b[0m\u001b[0ma\u001b[0m\u001b[1;33m,\u001b[0m \u001b[1;33m**\u001b[0m\u001b[0mk\u001b[0m\u001b[1;33m)\u001b[0m\u001b[1;33m\u001b[0m\u001b[0m\n\u001b[0m\u001b[0;32m    188\u001b[0m \u001b[1;33m\u001b[0m\u001b[0m\n\u001b[0;32m    189\u001b[0m         \u001b[1;32mif\u001b[0m \u001b[0mcallable\u001b[0m\u001b[1;33m(\u001b[0m\u001b[0marg\u001b[0m\u001b[1;33m)\u001b[0m\u001b[1;33m:\u001b[0m\u001b[1;33m\u001b[0m\u001b[0m\n",
      "\u001b[1;32mC:\\ProgramData\\Anaconda3\\lib\\site-packages\\IPython\\core\\magics\\execution.py\u001b[0m in \u001b[0;36mtimeit\u001b[1;34m(self, line, cell, local_ns)\u001b[0m\n\u001b[0;32m   1096\u001b[0m             \u001b[1;32mfor\u001b[0m \u001b[0mindex\u001b[0m \u001b[1;32min\u001b[0m \u001b[0mrange\u001b[0m\u001b[1;33m(\u001b[0m\u001b[1;36m0\u001b[0m\u001b[1;33m,\u001b[0m \u001b[1;36m10\u001b[0m\u001b[1;33m)\u001b[0m\u001b[1;33m:\u001b[0m\u001b[1;33m\u001b[0m\u001b[0m\n\u001b[0;32m   1097\u001b[0m                 \u001b[0mnumber\u001b[0m \u001b[1;33m=\u001b[0m \u001b[1;36m10\u001b[0m \u001b[1;33m**\u001b[0m \u001b[0mindex\u001b[0m\u001b[1;33m\u001b[0m\u001b[0m\n\u001b[1;32m-> 1098\u001b[1;33m                 \u001b[0mtime_number\u001b[0m \u001b[1;33m=\u001b[0m \u001b[0mtimer\u001b[0m\u001b[1;33m.\u001b[0m\u001b[0mtimeit\u001b[0m\u001b[1;33m(\u001b[0m\u001b[0mnumber\u001b[0m\u001b[1;33m)\u001b[0m\u001b[1;33m\u001b[0m\u001b[0m\n\u001b[0m\u001b[0;32m   1099\u001b[0m                 \u001b[1;32mif\u001b[0m \u001b[0mtime_number\u001b[0m \u001b[1;33m>=\u001b[0m \u001b[1;36m0.2\u001b[0m\u001b[1;33m:\u001b[0m\u001b[1;33m\u001b[0m\u001b[0m\n\u001b[0;32m   1100\u001b[0m                     \u001b[1;32mbreak\u001b[0m\u001b[1;33m\u001b[0m\u001b[0m\n",
      "\u001b[1;32mC:\\ProgramData\\Anaconda3\\lib\\site-packages\\IPython\\core\\magics\\execution.py\u001b[0m in \u001b[0;36mtimeit\u001b[1;34m(self, number)\u001b[0m\n\u001b[0;32m    158\u001b[0m         \u001b[0mgc\u001b[0m\u001b[1;33m.\u001b[0m\u001b[0mdisable\u001b[0m\u001b[1;33m(\u001b[0m\u001b[1;33m)\u001b[0m\u001b[1;33m\u001b[0m\u001b[0m\n\u001b[0;32m    159\u001b[0m         \u001b[1;32mtry\u001b[0m\u001b[1;33m:\u001b[0m\u001b[1;33m\u001b[0m\u001b[0m\n\u001b[1;32m--> 160\u001b[1;33m             \u001b[0mtiming\u001b[0m \u001b[1;33m=\u001b[0m \u001b[0mself\u001b[0m\u001b[1;33m.\u001b[0m\u001b[0minner\u001b[0m\u001b[1;33m(\u001b[0m\u001b[0mit\u001b[0m\u001b[1;33m,\u001b[0m \u001b[0mself\u001b[0m\u001b[1;33m.\u001b[0m\u001b[0mtimer\u001b[0m\u001b[1;33m)\u001b[0m\u001b[1;33m\u001b[0m\u001b[0m\n\u001b[0m\u001b[0;32m    161\u001b[0m         \u001b[1;32mfinally\u001b[0m\u001b[1;33m:\u001b[0m\u001b[1;33m\u001b[0m\u001b[0m\n\u001b[0;32m    162\u001b[0m             \u001b[1;32mif\u001b[0m \u001b[0mgcold\u001b[0m\u001b[1;33m:\u001b[0m\u001b[1;33m\u001b[0m\u001b[0m\n",
      "\u001b[1;32m<magic-timeit>\u001b[0m in \u001b[0;36minner\u001b[1;34m(_it, _timer)\u001b[0m\n",
      "\u001b[1;31mAttributeError\u001b[0m: 'MolecularDynamics' object has no attribute 'lennardJonesForce'"
     ]
    }
   ],
   "source": [
    "md = MolecularDynamics(N=16, L=4, initialTemperature=1.0)\n",
    "%timeit md.lennardJonesForce(self)\n",
    "    "
   ]
  },
  {
   "cell_type": "code",
   "execution_count": 37,
   "metadata": {},
   "outputs": [
    {
     "name": "stdout",
     "output_type": "stream",
     "text": [
      "18.5 µs ± 437 ns per loop (mean ± std. dev. of 7 runs, 100000 loops each)\n"
     ]
    }
   ],
   "source": [
    "%timeit MolecularDynamics(N=16, L=4, initialTemperature=1.0)"
   ]
  },
  {
   "cell_type": "code",
   "execution_count": 19,
   "metadata": {},
   "outputs": [
    {
     "name": "stdout",
     "output_type": "stream",
     "text": [
      "18.9 µs ± 310 ns per loop (mean ± std. dev. of 7 runs, 100000 loops each)\n"
     ]
    }
   ],
   "source": [
    "\n",
    "%timeit MolecularDynamics(N=160, L=4, initialTemperature=1.0)"
   ]
  },
  {
   "cell_type": "code",
   "execution_count": 23,
   "metadata": {},
   "outputs": [
    {
     "name": "stdout",
     "output_type": "stream",
     "text": [
      "18.7 µs ± 248 ns per loop (mean ± std. dev. of 7 runs, 100000 loops each)\n"
     ]
    }
   ],
   "source": [
    "%timeit MolecularDynamics(N=160, L=4, initialTemperature=1.0)"
   ]
  },
  {
   "cell_type": "code",
   "execution_count": 24,
   "metadata": {},
   "outputs": [],
   "source": [
    "    def powerLawForce(self): \n",
    "\n",
    "        N = self.N\n",
    "        virial = 0.0\n",
    "        tiny = 1.0e-40 # prevents division by zero in calculation of self-force\n",
    "        halfL = 0.5 * self.L\n",
    "\n",
    "        x = self.x[arange(0, 2*N, 2)]\n",
    "        y = self.x[arange(1, 2*N, 2)]\t\n",
    "        f = zeros(2*N)\n",
    "        minimumImage = self.minimumImage\n",
    "        for i in range(N):  # The O(N**2) calculation that slows everything down SOS: ACCELERATE THIS LOOP\n",
    "\n",
    "            dx = minimumImage(x[i] - x)\n",
    "            dy = minimumImage(y[i] - y)\n",
    "\n",
    "            r2 = dx**2 + dy**2 + tiny\n",
    "            r6inv = pow(r2, -3)\n",
    "            fx = dx * r6inv\n",
    "            fy = dy * r6inv\n",
    "\n",
    "            fx[i] = 0.0 # no self force\n",
    "            fy[i] = 0.0\n",
    "            f[2*i] = fx.sum()\n",
    "            f[2*i+1] = fy.sum()\n",
    "\n",
    "            virial += dot(fx, dx) + dot(fy, dy)\t\n",
    "\n",
    "        return f, 0.5 * virial "
   ]
  },
  {
   "cell_type": "code",
   "execution_count": null,
   "metadata": {},
   "outputs": [],
   "source": []
  }
 ],
 "metadata": {
  "kernelspec": {
   "display_name": "Python 3",
   "language": "python",
   "name": "python3"
  },
  "language_info": {
   "codemirror_mode": {
    "name": "ipython",
    "version": 3
   },
   "file_extension": ".py",
   "mimetype": "text/x-python",
   "name": "python",
   "nbconvert_exporter": "python",
   "pygments_lexer": "ipython3",
   "version": "3.6.5"
  }
 },
 "nbformat": 4,
 "nbformat_minor": 2
}
